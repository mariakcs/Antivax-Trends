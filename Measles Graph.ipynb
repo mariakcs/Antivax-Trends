{
 "cells": [
  {
   "cell_type": "code",
   "execution_count": 16,
   "metadata": {},
   "outputs": [],
   "source": [
    "import pandas as pd\n",
    "import numpy as np\n",
    "import matplotlib.pyplot as plt"
   ]
  },
  {
   "cell_type": "code",
   "execution_count": 17,
   "metadata": {},
   "outputs": [
    {
     "data": {
      "text/html": [
       "<div>\n",
       "<style scoped>\n",
       "    .dataframe tbody tr th:only-of-type {\n",
       "        vertical-align: middle;\n",
       "    }\n",
       "\n",
       "    .dataframe tbody tr th {\n",
       "        vertical-align: top;\n",
       "    }\n",
       "\n",
       "    .dataframe thead th {\n",
       "        text-align: right;\n",
       "    }\n",
       "</style>\n",
       "<table border=\"1\" class=\"dataframe\">\n",
       "  <thead>\n",
       "    <tr style=\"text-align: right;\">\n",
       "      <th></th>\n",
       "      <th>disease</th>\n",
       "      <th>state</th>\n",
       "      <th>epi_week</th>\n",
       "      <th>incidence_per_100000</th>\n",
       "    </tr>\n",
       "  </thead>\n",
       "  <tbody>\n",
       "    <tr>\n",
       "      <th>0</th>\n",
       "      <td>DIPHTHERIA</td>\n",
       "      <td>MA</td>\n",
       "      <td>192152</td>\n",
       "      <td>31.11</td>\n",
       "    </tr>\n",
       "    <tr>\n",
       "      <th>1</th>\n",
       "      <td>DIPHTHERIA</td>\n",
       "      <td>MA</td>\n",
       "      <td>192251</td>\n",
       "      <td>39.81</td>\n",
       "    </tr>\n",
       "    <tr>\n",
       "      <th>2</th>\n",
       "      <td>DIPHTHERIA</td>\n",
       "      <td>MA</td>\n",
       "      <td>191635</td>\n",
       "      <td>14.98</td>\n",
       "    </tr>\n",
       "    <tr>\n",
       "      <th>3</th>\n",
       "      <td>DIPHTHERIA</td>\n",
       "      <td>MA</td>\n",
       "      <td>191713</td>\n",
       "      <td>53.34</td>\n",
       "    </tr>\n",
       "    <tr>\n",
       "      <th>4</th>\n",
       "      <td>DIPHTHERIA</td>\n",
       "      <td>MA</td>\n",
       "      <td>192135</td>\n",
       "      <td>35.84</td>\n",
       "    </tr>\n",
       "  </tbody>\n",
       "</table>\n",
       "</div>"
      ],
      "text/plain": [
       "      disease state  epi_week  incidence_per_100000\n",
       "0  DIPHTHERIA    MA    192152                 31.11\n",
       "1  DIPHTHERIA    MA    192251                 39.81\n",
       "2  DIPHTHERIA    MA    191635                 14.98\n",
       "3  DIPHTHERIA    MA    191713                 53.34\n",
       "4  DIPHTHERIA    MA    192135                 35.84"
      ]
     },
     "execution_count": 17,
     "metadata": {},
     "output_type": "execute_result"
    }
   ],
   "source": [
    "file = \"cdc_dataset.csv\"\n",
    "file_df = pd.read_csv(file)\n",
    "file_df.head()"
   ]
  },
  {
   "cell_type": "code",
   "execution_count": 18,
   "metadata": {},
   "outputs": [
    {
     "data": {
      "text/html": [
       "<div>\n",
       "<style scoped>\n",
       "    .dataframe tbody tr th:only-of-type {\n",
       "        vertical-align: middle;\n",
       "    }\n",
       "\n",
       "    .dataframe tbody tr th {\n",
       "        vertical-align: top;\n",
       "    }\n",
       "\n",
       "    .dataframe thead th {\n",
       "        text-align: right;\n",
       "    }\n",
       "</style>\n",
       "<table border=\"1\" class=\"dataframe\">\n",
       "  <thead>\n",
       "    <tr style=\"text-align: right;\">\n",
       "      <th></th>\n",
       "      <th>disease</th>\n",
       "      <th>state</th>\n",
       "      <th>epi_week</th>\n",
       "      <th>incidence_per_100000</th>\n",
       "    </tr>\n",
       "  </thead>\n",
       "  <tbody>\n",
       "    <tr>\n",
       "      <th>0</th>\n",
       "      <td>DIPHTHERIA</td>\n",
       "      <td>CA</td>\n",
       "      <td>192428</td>\n",
       "      <td>18.72</td>\n",
       "    </tr>\n",
       "    <tr>\n",
       "      <th>1</th>\n",
       "      <td>DIPHTHERIA</td>\n",
       "      <td>CA</td>\n",
       "      <td>191804</td>\n",
       "      <td>8.98</td>\n",
       "    </tr>\n",
       "    <tr>\n",
       "      <th>2</th>\n",
       "      <td>DIPHTHERIA</td>\n",
       "      <td>CA</td>\n",
       "      <td>193509</td>\n",
       "      <td>10.90</td>\n",
       "    </tr>\n",
       "    <tr>\n",
       "      <th>3</th>\n",
       "      <td>DIPHTHERIA</td>\n",
       "      <td>CA</td>\n",
       "      <td>192644</td>\n",
       "      <td>8.22</td>\n",
       "    </tr>\n",
       "    <tr>\n",
       "      <th>4</th>\n",
       "      <td>DIPHTHERIA</td>\n",
       "      <td>CA</td>\n",
       "      <td>194612</td>\n",
       "      <td>0.11</td>\n",
       "    </tr>\n",
       "  </tbody>\n",
       "</table>\n",
       "</div>"
      ],
      "text/plain": [
       "      disease state  epi_week  incidence_per_100000\n",
       "0  DIPHTHERIA    CA    192428                 18.72\n",
       "1  DIPHTHERIA    CA    191804                  8.98\n",
       "2  DIPHTHERIA    CA    193509                 10.90\n",
       "3  DIPHTHERIA    CA    192644                  8.22\n",
       "4  DIPHTHERIA    CA    194612                  0.11"
      ]
     },
     "execution_count": 18,
     "metadata": {},
     "output_type": "execute_result"
    }
   ],
   "source": [
    "ca_df = file_df.loc[file_df[\"state\"] == \"CA\", :]\n",
    "ca_df = ca_df.reset_index()\n",
    "ca_df = ca_df.drop(columns=[\"index\"])\n",
    "ca_df.head()"
   ]
  },
  {
   "cell_type": "code",
   "execution_count": 19,
   "metadata": {},
   "outputs": [
    {
     "data": {
      "text/html": [
       "<div>\n",
       "<style scoped>\n",
       "    .dataframe tbody tr th:only-of-type {\n",
       "        vertical-align: middle;\n",
       "    }\n",
       "\n",
       "    .dataframe tbody tr th {\n",
       "        vertical-align: top;\n",
       "    }\n",
       "\n",
       "    .dataframe thead th {\n",
       "        text-align: right;\n",
       "    }\n",
       "</style>\n",
       "<table border=\"1\" class=\"dataframe\">\n",
       "  <thead>\n",
       "    <tr style=\"text-align: right;\">\n",
       "      <th></th>\n",
       "      <th>index</th>\n",
       "      <th>disease</th>\n",
       "      <th>state</th>\n",
       "      <th>epi_week</th>\n",
       "      <th>incidence_per_100000</th>\n",
       "    </tr>\n",
       "  </thead>\n",
       "  <tbody>\n",
       "    <tr>\n",
       "      <th>0</th>\n",
       "      <td>1983</td>\n",
       "      <td>MEASLES</td>\n",
       "      <td>CA</td>\n",
       "      <td>192801</td>\n",
       "      <td>1.38</td>\n",
       "    </tr>\n",
       "    <tr>\n",
       "      <th>1</th>\n",
       "      <td>12820</td>\n",
       "      <td>MEASLES</td>\n",
       "      <td>CA</td>\n",
       "      <td>192802</td>\n",
       "      <td>1.80</td>\n",
       "    </tr>\n",
       "    <tr>\n",
       "      <th>2</th>\n",
       "      <td>10365</td>\n",
       "      <td>MEASLES</td>\n",
       "      <td>CA</td>\n",
       "      <td>192803</td>\n",
       "      <td>1.31</td>\n",
       "    </tr>\n",
       "    <tr>\n",
       "      <th>3</th>\n",
       "      <td>10864</td>\n",
       "      <td>MEASLES</td>\n",
       "      <td>CA</td>\n",
       "      <td>192804</td>\n",
       "      <td>1.87</td>\n",
       "    </tr>\n",
       "    <tr>\n",
       "      <th>4</th>\n",
       "      <td>10089</td>\n",
       "      <td>MEASLES</td>\n",
       "      <td>CA</td>\n",
       "      <td>192805</td>\n",
       "      <td>2.38</td>\n",
       "    </tr>\n",
       "  </tbody>\n",
       "</table>\n",
       "</div>"
      ],
      "text/plain": [
       "   index  disease state  epi_week  incidence_per_100000\n",
       "0   1983  MEASLES    CA    192801                  1.38\n",
       "1  12820  MEASLES    CA    192802                  1.80\n",
       "2  10365  MEASLES    CA    192803                  1.31\n",
       "3  10864  MEASLES    CA    192804                  1.87\n",
       "4  10089  MEASLES    CA    192805                  2.38"
      ]
     },
     "execution_count": 19,
     "metadata": {},
     "output_type": "execute_result"
    }
   ],
   "source": [
    "ca_meas_df = ca_df.loc[ca_df[\"disease\"] == \"MEASLES\"]\n",
    "ca_meas_df = ca_meas_df.sort_values(\"epi_week\")\n",
    "ca_meas_df = ca_meas_df.reset_index()\n",
    "ca_meas_df.head()"
   ]
  },
  {
   "cell_type": "code",
   "execution_count": 20,
   "metadata": {},
   "outputs": [
    {
     "data": {
      "text/html": [
       "<div>\n",
       "<style scoped>\n",
       "    .dataframe tbody tr th:only-of-type {\n",
       "        vertical-align: middle;\n",
       "    }\n",
       "\n",
       "    .dataframe tbody tr th {\n",
       "        vertical-align: top;\n",
       "    }\n",
       "\n",
       "    .dataframe thead th {\n",
       "        text-align: right;\n",
       "    }\n",
       "</style>\n",
       "<table border=\"1\" class=\"dataframe\">\n",
       "  <thead>\n",
       "    <tr style=\"text-align: right;\">\n",
       "      <th></th>\n",
       "      <th>index</th>\n",
       "      <th>disease</th>\n",
       "      <th>state</th>\n",
       "      <th>epi_week</th>\n",
       "      <th>incidence_per_100000</th>\n",
       "    </tr>\n",
       "  </thead>\n",
       "  <tbody>\n",
       "    <tr>\n",
       "      <th>0</th>\n",
       "      <td>1983</td>\n",
       "      <td>MEASLES</td>\n",
       "      <td>CA</td>\n",
       "      <td>1928.01</td>\n",
       "      <td>1.38</td>\n",
       "    </tr>\n",
       "    <tr>\n",
       "      <th>1</th>\n",
       "      <td>12820</td>\n",
       "      <td>MEASLES</td>\n",
       "      <td>CA</td>\n",
       "      <td>1928.02</td>\n",
       "      <td>1.80</td>\n",
       "    </tr>\n",
       "    <tr>\n",
       "      <th>2</th>\n",
       "      <td>10365</td>\n",
       "      <td>MEASLES</td>\n",
       "      <td>CA</td>\n",
       "      <td>1928.03</td>\n",
       "      <td>1.31</td>\n",
       "    </tr>\n",
       "    <tr>\n",
       "      <th>3</th>\n",
       "      <td>10864</td>\n",
       "      <td>MEASLES</td>\n",
       "      <td>CA</td>\n",
       "      <td>1928.04</td>\n",
       "      <td>1.87</td>\n",
       "    </tr>\n",
       "    <tr>\n",
       "      <th>4</th>\n",
       "      <td>10089</td>\n",
       "      <td>MEASLES</td>\n",
       "      <td>CA</td>\n",
       "      <td>1928.05</td>\n",
       "      <td>2.38</td>\n",
       "    </tr>\n",
       "  </tbody>\n",
       "</table>\n",
       "</div>"
      ],
      "text/plain": [
       "   index  disease state  epi_week  incidence_per_100000\n",
       "0   1983  MEASLES    CA   1928.01                  1.38\n",
       "1  12820  MEASLES    CA   1928.02                  1.80\n",
       "2  10365  MEASLES    CA   1928.03                  1.31\n",
       "3  10864  MEASLES    CA   1928.04                  1.87\n",
       "4  10089  MEASLES    CA   1928.05                  2.38"
      ]
     },
     "execution_count": 20,
     "metadata": {},
     "output_type": "execute_result"
    }
   ],
   "source": [
    "ca_rounded_df = ca_meas_df\n",
    "ca_rounded_df[\"epi_week\"] = ca_rounded_df[\"epi_week\"]/100\n",
    "#ca_rounded_df[\"epi_week\"] = int(ca_rounded_df[\"epi_week\"])\n",
    "ca_rounded_df.head()"
   ]
  },
  {
   "cell_type": "code",
   "execution_count": 21,
   "metadata": {},
   "outputs": [
    {
     "data": {
      "text/html": [
       "<div>\n",
       "<style scoped>\n",
       "    .dataframe tbody tr th:only-of-type {\n",
       "        vertical-align: middle;\n",
       "    }\n",
       "\n",
       "    .dataframe tbody tr th {\n",
       "        vertical-align: top;\n",
       "    }\n",
       "\n",
       "    .dataframe thead th {\n",
       "        text-align: right;\n",
       "    }\n",
       "</style>\n",
       "<table border=\"1\" class=\"dataframe\">\n",
       "  <thead>\n",
       "    <tr style=\"text-align: right;\">\n",
       "      <th></th>\n",
       "      <th>year</th>\n",
       "      <th>incidence_per_100000</th>\n",
       "    </tr>\n",
       "  </thead>\n",
       "  <tbody>\n",
       "    <tr>\n",
       "      <th>0</th>\n",
       "      <td>1928</td>\n",
       "      <td>69.22</td>\n",
       "    </tr>\n",
       "    <tr>\n",
       "      <th>1</th>\n",
       "      <td>1929</td>\n",
       "      <td>72.80</td>\n",
       "    </tr>\n",
       "    <tr>\n",
       "      <th>2</th>\n",
       "      <td>1930</td>\n",
       "      <td>760.24</td>\n",
       "    </tr>\n",
       "    <tr>\n",
       "      <th>3</th>\n",
       "      <td>1931</td>\n",
       "      <td>477.48</td>\n",
       "    </tr>\n",
       "    <tr>\n",
       "      <th>4</th>\n",
       "      <td>1932</td>\n",
       "      <td>214.08</td>\n",
       "    </tr>\n",
       "  </tbody>\n",
       "</table>\n",
       "</div>"
      ],
      "text/plain": [
       "   year  incidence_per_100000\n",
       "0  1928                 69.22\n",
       "1  1929                 72.80\n",
       "2  1930                760.24\n",
       "3  1931                477.48\n",
       "4  1932                214.08"
      ]
     },
     "execution_count": 21,
     "metadata": {},
     "output_type": "execute_result"
    }
   ],
   "source": [
    "ca_rounded_df[\"epi_week\"] = ca_rounded_df[\"epi_week\"].astype(int)\n",
    "ca_rounded_dropped_df = ca_rounded_df.groupby([\"epi_week\"]).sum()\n",
    "ca_rounded_dropped_df = ca_rounded_dropped_df.reset_index()\n",
    "ca_rounded_dropped_df = ca_rounded_dropped_df.drop(columns=\"index\")\n",
    "ca_rounded_dropped_df = ca_rounded_dropped_df.rename(columns={\"epi_week\":\"year\"})\n",
    "ca_rounded_dropped_df.head()"
   ]
  },
  {
   "cell_type": "code",
   "execution_count": 28,
   "metadata": {},
   "outputs": [
    {
     "data": {
      "image/png": "[encoded data removed]",
      "text/plain": [
       "<Figure size 432x288 with 1 Axes>"
      ]
     },
     "metadata": {
      "needs_background": "light"
     },
     "output_type": "display_data"
    }
   ],
   "source": [
    "\n",
    "plt.plot(ca_rounded_dropped_df[\"year\"], ca_rounded_dropped_df[\"incidence_per_100000\"])\n",
    "\n",
    "plt.title(\"Measles Incidence in California\")\n",
    "plt.xlabel(\"EPI Week\")\n",
    "plt.ylabel(\"Incidence per 100,000\")\n",
    "plt.savefig(\"measles.png\", dpi=200)\n",
    "plt.show()\n"
   ]
  },
  {
   "cell_type": "code",
   "execution_count": 23,
   "metadata": {},
   "outputs": [
    {
     "data": {
      "text/plain": [
       "70.46153846153847"
      ]
     },
     "execution_count": 23,
     "metadata": {},
     "output_type": "execute_result"
    }
   ],
   "source": [
    "ca_meas_df[\"epi_week\"].describe()\n",
    "len(ca_meas_df)/52"
   ]
  },
  {
   "cell_type": "code",
   "execution_count": 24,
   "metadata": {},
   "outputs": [
    {
     "data": {
      "text/plain": [
       "1942"
      ]
     },
     "execution_count": 24,
     "metadata": {},
     "output_type": "execute_result"
    }
   ],
   "source": [
    "#test to drop week from year column\n",
    "year_test = 194211\n",
    "year_change = year_test/100\n",
    "year_change = int(year_change)\n",
    "year_change"
   ]
  },
  {
   "cell_type": "code",
   "execution_count": 25,
   "metadata": {},
   "outputs": [
    {
     "data": {
      "image/png": "[encoded data removed]",
      "text/plain": [
       "<Figure size 1800x1080 with 1 Axes>"
      ]
     },
     "metadata": {
      "needs_background": "light"
     },
     "output_type": "display_data"
    }
   ],
   "source": [
    "#measles vaccine was introduced in 1963\n",
    "after_vac_df = ca_rounded_dropped_df.loc[ca_rounded_dropped_df[\"year\"]>=1963]\n",
    "plt.figure(figsize=(25,15))\n",
    "plt.plot(after_vac_df[\"year\"], after_vac_df[\"incidence_per_100000\"])\n",
    "\n",
    "plt.title(\"Measles Incidence in California\")\n",
    "plt.xlabel(\"EPI Week\")\n",
    "plt.ylabel(\"Incidence per 100,000\")\n",
    "plt.show()\n",
    "plt.show()"
   ]
  },
  {
   "cell_type": "code",
   "execution_count": null,
   "metadata": {},
   "outputs": [],
   "source": []
  }
 ],
 "metadata": {
  "kernelspec": {
   "display_name": "Python 3",
   "language": "python",
   "name": "python3"
  },
  "language_info": {
   "codemirror_mode": {
    "name": "ipython",
    "version": 3
   },
   "file_extension": ".py",
   "mimetype": "text/x-python",
   "name": "python",
   "nbconvert_exporter": "python",
   "pygments_lexer": "ipython3",
   "version": "3.7.1"
  }
 },
 "nbformat": 4,
 "nbformat_minor": 2
}
