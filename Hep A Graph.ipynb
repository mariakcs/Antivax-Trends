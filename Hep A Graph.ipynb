{
 "cells": [
  {
   "cell_type": "code",
   "execution_count": 1,
   "metadata": {},
   "outputs": [],
   "source": [
    "import pandas as pd\n",
    "import numpy as np\n",
    "import matplotlib.pyplot as plt"
   ]
  },
  {
   "cell_type": "code",
   "execution_count": 2,
   "metadata": {},
   "outputs": [
    {
     "data": {
      "text/html": [
       "<div>\n",
       "<style scoped>\n",
       "    .dataframe tbody tr th:only-of-type {\n",
       "        vertical-align: middle;\n",
       "    }\n",
       "\n",
       "    .dataframe tbody tr th {\n",
       "        vertical-align: top;\n",
       "    }\n",
       "\n",
       "    .dataframe thead th {\n",
       "        text-align: right;\n",
       "    }\n",
       "</style>\n",
       "<table border=\"1\" class=\"dataframe\">\n",
       "  <thead>\n",
       "    <tr style=\"text-align: right;\">\n",
       "      <th></th>\n",
       "      <th>disease</th>\n",
       "      <th>state</th>\n",
       "      <th>epi_week</th>\n",
       "      <th>incidence_per_100000</th>\n",
       "    </tr>\n",
       "  </thead>\n",
       "  <tbody>\n",
       "    <tr>\n",
       "      <th>0</th>\n",
       "      <td>DIPHTHERIA</td>\n",
       "      <td>MA</td>\n",
       "      <td>192152</td>\n",
       "      <td>31.11</td>\n",
       "    </tr>\n",
       "    <tr>\n",
       "      <th>1</th>\n",
       "      <td>DIPHTHERIA</td>\n",
       "      <td>MA</td>\n",
       "      <td>192251</td>\n",
       "      <td>39.81</td>\n",
       "    </tr>\n",
       "    <tr>\n",
       "      <th>2</th>\n",
       "      <td>DIPHTHERIA</td>\n",
       "      <td>MA</td>\n",
       "      <td>191635</td>\n",
       "      <td>14.98</td>\n",
       "    </tr>\n",
       "    <tr>\n",
       "      <th>3</th>\n",
       "      <td>DIPHTHERIA</td>\n",
       "      <td>MA</td>\n",
       "      <td>191713</td>\n",
       "      <td>53.34</td>\n",
       "    </tr>\n",
       "    <tr>\n",
       "      <th>4</th>\n",
       "      <td>DIPHTHERIA</td>\n",
       "      <td>MA</td>\n",
       "      <td>192135</td>\n",
       "      <td>35.84</td>\n",
       "    </tr>\n",
       "  </tbody>\n",
       "</table>\n",
       "</div>"
      ],
      "text/plain": [
       "      disease state  epi_week  incidence_per_100000\n",
       "0  DIPHTHERIA    MA    192152                 31.11\n",
       "1  DIPHTHERIA    MA    192251                 39.81\n",
       "2  DIPHTHERIA    MA    191635                 14.98\n",
       "3  DIPHTHERIA    MA    191713                 53.34\n",
       "4  DIPHTHERIA    MA    192135                 35.84"
      ]
     },
     "execution_count": 2,
     "metadata": {},
     "output_type": "execute_result"
    }
   ],
   "source": [
    "file = \"cdc_dataset.csv\"\n",
    "file_df = pd.read_csv(file)\n",
    "file_df.head()"
   ]
  },
  {
   "cell_type": "code",
   "execution_count": 3,
   "metadata": {},
   "outputs": [
    {
     "data": {
      "text/plain": [
       "array(['DIPHTHERIA', 'MEASLES', 'MUMPS', 'PERTUSSIS', 'POLIO', 'RUBELLA',\n",
       "       'HEPATITIS A', 'SMALLPOX'], dtype=object)"
      ]
     },
     "execution_count": 3,
     "metadata": {},
     "output_type": "execute_result"
    }
   ],
   "source": [
    "ca_df = file_df.loc[file_df[\"state\"] == \"CA\", :]\n",
    "ca_df = ca_df.reset_index()\n",
    "ca_df = ca_df.drop(columns=[\"index\"])\n",
    "ca_df[\"disease\"].unique()"
   ]
  },
  {
   "cell_type": "code",
   "execution_count": 4,
   "metadata": {},
   "outputs": [
    {
     "data": {
      "text/html": [
       "<div>\n",
       "<style scoped>\n",
       "    .dataframe tbody tr th:only-of-type {\n",
       "        vertical-align: middle;\n",
       "    }\n",
       "\n",
       "    .dataframe tbody tr th {\n",
       "        vertical-align: top;\n",
       "    }\n",
       "\n",
       "    .dataframe thead th {\n",
       "        text-align: right;\n",
       "    }\n",
       "</style>\n",
       "<table border=\"1\" class=\"dataframe\">\n",
       "  <thead>\n",
       "    <tr style=\"text-align: right;\">\n",
       "      <th></th>\n",
       "      <th>index</th>\n",
       "      <th>disease</th>\n",
       "      <th>state</th>\n",
       "      <th>epi_week</th>\n",
       "      <th>incidence_per_100000</th>\n",
       "    </tr>\n",
       "  </thead>\n",
       "  <tbody>\n",
       "    <tr>\n",
       "      <th>0</th>\n",
       "      <td>6856</td>\n",
       "      <td>HEPATITIS A</td>\n",
       "      <td>CA</td>\n",
       "      <td>196601</td>\n",
       "      <td>0.47</td>\n",
       "    </tr>\n",
       "    <tr>\n",
       "      <th>1</th>\n",
       "      <td>1735</td>\n",
       "      <td>HEPATITIS A</td>\n",
       "      <td>CA</td>\n",
       "      <td>196602</td>\n",
       "      <td>0.65</td>\n",
       "    </tr>\n",
       "    <tr>\n",
       "      <th>2</th>\n",
       "      <td>13930</td>\n",
       "      <td>HEPATITIS A</td>\n",
       "      <td>CA</td>\n",
       "      <td>196603</td>\n",
       "      <td>0.52</td>\n",
       "    </tr>\n",
       "    <tr>\n",
       "      <th>3</th>\n",
       "      <td>13759</td>\n",
       "      <td>HEPATITIS A</td>\n",
       "      <td>CA</td>\n",
       "      <td>196604</td>\n",
       "      <td>0.70</td>\n",
       "    </tr>\n",
       "    <tr>\n",
       "      <th>4</th>\n",
       "      <td>13762</td>\n",
       "      <td>HEPATITIS A</td>\n",
       "      <td>CA</td>\n",
       "      <td>196605</td>\n",
       "      <td>0.69</td>\n",
       "    </tr>\n",
       "  </tbody>\n",
       "</table>\n",
       "</div>"
      ],
      "text/plain": [
       "   index      disease state  epi_week  incidence_per_100000\n",
       "0   6856  HEPATITIS A    CA    196601                  0.47\n",
       "1   1735  HEPATITIS A    CA    196602                  0.65\n",
       "2  13930  HEPATITIS A    CA    196603                  0.52\n",
       "3  13759  HEPATITIS A    CA    196604                  0.70\n",
       "4  13762  HEPATITIS A    CA    196605                  0.69"
      ]
     },
     "execution_count": 4,
     "metadata": {},
     "output_type": "execute_result"
    }
   ],
   "source": [
    "ca_meas_df = ca_df.loc[ca_df[\"disease\"] == \"HEPATITIS A\"]\n",
    "ca_meas_df = ca_meas_df.sort_values(\"epi_week\")\n",
    "ca_meas_df = ca_meas_df.reset_index()\n",
    "ca_meas_df.head()"
   ]
  },
  {
   "cell_type": "code",
   "execution_count": 5,
   "metadata": {},
   "outputs": [
    {
     "data": {
      "text/html": [
       "<div>\n",
       "<style scoped>\n",
       "    .dataframe tbody tr th:only-of-type {\n",
       "        vertical-align: middle;\n",
       "    }\n",
       "\n",
       "    .dataframe tbody tr th {\n",
       "        vertical-align: top;\n",
       "    }\n",
       "\n",
       "    .dataframe thead th {\n",
       "        text-align: right;\n",
       "    }\n",
       "</style>\n",
       "<table border=\"1\" class=\"dataframe\">\n",
       "  <thead>\n",
       "    <tr style=\"text-align: right;\">\n",
       "      <th></th>\n",
       "      <th>index</th>\n",
       "      <th>disease</th>\n",
       "      <th>state</th>\n",
       "      <th>epi_week</th>\n",
       "      <th>incidence_per_100000</th>\n",
       "    </tr>\n",
       "  </thead>\n",
       "  <tbody>\n",
       "    <tr>\n",
       "      <th>0</th>\n",
       "      <td>6856</td>\n",
       "      <td>HEPATITIS A</td>\n",
       "      <td>CA</td>\n",
       "      <td>1966.01</td>\n",
       "      <td>0.47</td>\n",
       "    </tr>\n",
       "    <tr>\n",
       "      <th>1</th>\n",
       "      <td>1735</td>\n",
       "      <td>HEPATITIS A</td>\n",
       "      <td>CA</td>\n",
       "      <td>1966.02</td>\n",
       "      <td>0.65</td>\n",
       "    </tr>\n",
       "    <tr>\n",
       "      <th>2</th>\n",
       "      <td>13930</td>\n",
       "      <td>HEPATITIS A</td>\n",
       "      <td>CA</td>\n",
       "      <td>1966.03</td>\n",
       "      <td>0.52</td>\n",
       "    </tr>\n",
       "    <tr>\n",
       "      <th>3</th>\n",
       "      <td>13759</td>\n",
       "      <td>HEPATITIS A</td>\n",
       "      <td>CA</td>\n",
       "      <td>1966.04</td>\n",
       "      <td>0.70</td>\n",
       "    </tr>\n",
       "    <tr>\n",
       "      <th>4</th>\n",
       "      <td>13762</td>\n",
       "      <td>HEPATITIS A</td>\n",
       "      <td>CA</td>\n",
       "      <td>1966.05</td>\n",
       "      <td>0.69</td>\n",
       "    </tr>\n",
       "  </tbody>\n",
       "</table>\n",
       "</div>"
      ],
      "text/plain": [
       "   index      disease state  epi_week  incidence_per_100000\n",
       "0   6856  HEPATITIS A    CA   1966.01                  0.47\n",
       "1   1735  HEPATITIS A    CA   1966.02                  0.65\n",
       "2  13930  HEPATITIS A    CA   1966.03                  0.52\n",
       "3  13759  HEPATITIS A    CA   1966.04                  0.70\n",
       "4  13762  HEPATITIS A    CA   1966.05                  0.69"
      ]
     },
     "execution_count": 5,
     "metadata": {},
     "output_type": "execute_result"
    }
   ],
   "source": [
    "ca_rounded_df = ca_meas_df\n",
    "ca_rounded_df[\"epi_week\"] = ca_rounded_df[\"epi_week\"]/100\n",
    "#ca_rounded_df[\"epi_week\"] = int(ca_rounded_df[\"epi_week\"])\n",
    "ca_rounded_df.head()"
   ]
  },
  {
   "cell_type": "code",
   "execution_count": 6,
   "metadata": {},
   "outputs": [
    {
     "data": {
      "text/html": [
       "<div>\n",
       "<style scoped>\n",
       "    .dataframe tbody tr th:only-of-type {\n",
       "        vertical-align: middle;\n",
       "    }\n",
       "\n",
       "    .dataframe tbody tr th {\n",
       "        vertical-align: top;\n",
       "    }\n",
       "\n",
       "    .dataframe thead th {\n",
       "        text-align: right;\n",
       "    }\n",
       "</style>\n",
       "<table border=\"1\" class=\"dataframe\">\n",
       "  <thead>\n",
       "    <tr style=\"text-align: right;\">\n",
       "      <th></th>\n",
       "      <th>year</th>\n",
       "      <th>incidence_per_100000</th>\n",
       "    </tr>\n",
       "  </thead>\n",
       "  <tbody>\n",
       "    <tr>\n",
       "      <th>0</th>\n",
       "      <td>1966</td>\n",
       "      <td>31.45</td>\n",
       "    </tr>\n",
       "    <tr>\n",
       "      <th>1</th>\n",
       "      <td>1967</td>\n",
       "      <td>38.98</td>\n",
       "    </tr>\n",
       "    <tr>\n",
       "      <th>2</th>\n",
       "      <td>1968</td>\n",
       "      <td>55.79</td>\n",
       "    </tr>\n",
       "    <tr>\n",
       "      <th>3</th>\n",
       "      <td>1969</td>\n",
       "      <td>45.90</td>\n",
       "    </tr>\n",
       "    <tr>\n",
       "      <th>4</th>\n",
       "      <td>1970</td>\n",
       "      <td>46.35</td>\n",
       "    </tr>\n",
       "  </tbody>\n",
       "</table>\n",
       "</div>"
      ],
      "text/plain": [
       "   year  incidence_per_100000\n",
       "0  1966                 31.45\n",
       "1  1967                 38.98\n",
       "2  1968                 55.79\n",
       "3  1969                 45.90\n",
       "4  1970                 46.35"
      ]
     },
     "execution_count": 6,
     "metadata": {},
     "output_type": "execute_result"
    }
   ],
   "source": [
    "ca_rounded_df[\"epi_week\"] = ca_rounded_df[\"epi_week\"].astype(int)\n",
    "ca_rounded_dropped_df = ca_rounded_df.groupby([\"epi_week\"]).sum()\n",
    "ca_rounded_dropped_df = ca_rounded_dropped_df.reset_index()\n",
    "ca_rounded_dropped_df = ca_rounded_dropped_df.drop(columns=\"index\")\n",
    "ca_rounded_dropped_df = ca_rounded_dropped_df.rename(columns={\"epi_week\":\"year\"})\n",
    "ca_rounded_dropped_df.head()"
   ]
  },
  {
   "cell_type": "code",
   "execution_count": 12,
   "metadata": {},
   "outputs": [
    {
     "data": {
      "image/png": "[encoded data removed]",
      "text/plain": [
       "<Figure size 432x288 with 1 Axes>"
      ]
     },
     "metadata": {
      "needs_background": "light"
     },
     "output_type": "display_data"
    }
   ],
   "source": [
    "\n",
    "plt.plot(ca_rounded_dropped_df[\"year\"], ca_rounded_dropped_df[\"incidence_per_100000\"])\n",
    "\n",
    "plt.title(\"HEPATITIS A Incidence in California\")\n",
    "plt.xlabel(\"EPI Week\")\n",
    "plt.ylabel(\"Incidence per 100,000\")\n",
    "plt.savefig(\"hep-a.png\", dpi=200)\n",
    "plt.show()"
   ]
  },
  {
   "cell_type": "code",
   "execution_count": 8,
   "metadata": {},
   "outputs": [
    {
     "data": {
      "text/plain": [
       "38.5"
      ]
     },
     "execution_count": 8,
     "metadata": {},
     "output_type": "execute_result"
    }
   ],
   "source": [
    "ca_meas_df[\"epi_week\"].describe()\n",
    "len(ca_meas_df)/52"
   ]
  },
  {
   "cell_type": "code",
   "execution_count": 9,
   "metadata": {},
   "outputs": [
    {
     "data": {
      "text/plain": [
       "1942"
      ]
     },
     "execution_count": 9,
     "metadata": {},
     "output_type": "execute_result"
    }
   ],
   "source": [
    "#test to drop week from year column\n",
    "year_test = 194211\n",
    "year_change = year_test/100\n",
    "year_change = int(year_change)\n",
    "year_change"
   ]
  },
  {
   "cell_type": "code",
   "execution_count": 10,
   "metadata": {},
   "outputs": [
    {
     "data": {
      "image/png": "[encoded data removed]",
      "text/plain": [
       "<Figure size 1800x1080 with 1 Axes>"
      ]
     },
     "metadata": {
      "needs_background": "light"
     },
     "output_type": "display_data"
    }
   ],
   "source": [
    "#measles vaccine was introduced in 1963\n",
    "after_vac_df = ca_rounded_dropped_df.loc[ca_rounded_dropped_df[\"year\"]>=1963]\n",
    "plt.figure(figsize=(25,15))\n",
    "plt.plot(after_vac_df[\"year\"], after_vac_df[\"incidence_per_100000\"])\n",
    "\n",
    "plt.title(\"HEPATITIS A Incidence in California\")\n",
    "plt.xlabel(\"EPI Week\")\n",
    "plt.ylabel(\"Incidence per 100,000\")\n",
    "plt.show()\n",
    "plt.show()"
   ]
  },
  {
   "cell_type": "code",
   "execution_count": null,
   "metadata": {},
   "outputs": [],
   "source": []
  }
 ],
 "metadata": {
  "kernelspec": {
   "display_name": "Python 3",
   "language": "python",
   "name": "python3"
  },
  "language_info": {
   "codemirror_mode": {
    "name": "ipython",
    "version": 3
   },
   "file_extension": ".py",
   "mimetype": "text/x-python",
   "name": "python",
   "nbconvert_exporter": "python",
   "pygments_lexer": "ipython3",
   "version": "3.7.1"
  }
 },
 "nbformat": 4,
 "nbformat_minor": 2
}
